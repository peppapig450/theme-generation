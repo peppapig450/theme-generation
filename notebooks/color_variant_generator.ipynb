{
 "cells": [
  {
   "cell_type": "markdown",
   "id": "0",
   "metadata": {},
   "source": [
    "### Setup and imports"
   ]
  },
  {
   "cell_type": "code",
   "execution_count": null,
   "id": "1",
   "metadata": {},
   "outputs": [],
   "source": [
    "import json\n",
    "import numpy as np\n",
    "import pandas as pd\n",
    "import matplotlib.pyplot as plt\n",
    "from pathlib import Path\n",
    "\n",
    "# Bayesian MCMC\n",
    "import pymc as pm\n",
    "import arviz as av\n",
    "\n",
    "# Genetic algorithm\n",
    "from deap import base, creator, tools, algorithms\n",
    "\n",
    "# CMA-ES\n",
    "import cma\n",
    "\n",
    "script_dir = Path(__file__).parent"
   ]
  },
  {
   "cell_type": "markdown",
   "id": "2",
   "metadata": {},
   "source": [
    "### Load & Flatten the theme"
   ]
  },
  {
   "cell_type": "code",
   "execution_count": null,
   "id": "3",
   "metadata": {},
   "outputs": [],
   "source": [
    "# Load our palette.json\n",
    "palette_path = script_dir / \"..\" / \"palettes\" / \"catpuccin\" / \"palette.json\"\n",
    "\n",
    "def palette_to_df(path_to_json: Path) -> pd.DataFrame:\n",
    "    # Load the full palette\n",
    "    palette = json.loads(path_to_json.read_text(encoding=\"utf-8\"))\n",
    "    \n",
    "    # Build a dict mapping each variant name to its color sub-dict\n",
    "    variant_colors = {\n",
    "        name: info[\"colors\"]\n",
    "        for name, info in palette.items()\n",
    "        if name != 'version'\n",
    "    }\n",
    "    \n",
    "    # Turn that into a big MultiIndex DataFrame: rows=(variant, token)\n",
    "    palette_df = pd.concat(\n",
    "        {\n",
    "            variant: pd.DataFrame.from_dict(colors, orient=\"index\")\n",
    "            for variant, colors in variant_colors.items()\n",
    "        },\n",
    "        axis=0\n",
    "    )\n",
    "    palette_df.index.set_names(['variant', 'token'], inplace=True)\n",
    "    palette_df = palette_df.reset_index()\n",
    "    \n",
    "    # Flatten the nested HSL column\n",
    "    hsl = pd.json_normalize(palette_df['hsl'].to_dict()).rename(\n",
    "        columns={\n",
    "            \"h\": \"h_raw\",\n",
    "            \"s\": \"s\",\n",
    "            \"l\": \"l\"\n",
    "        }\n",
    "    )\n",
    "    \n",
    "    # Normalize hue and assemble final frame\n",
    "    hsl['h'] = hsl['h_raw'] / 360\n",
    "    out = pd.concat([\n",
    "        palette_df[['variant', 'token']].reset_index(drop=True),\n",
    "        hsl[['h', 's', 'l']],\n",
    "        palette_df['accent'].reset_index(drop=True)\n",
    "    ], axis=1)\n",
    "    \n",
    "    return out\n",
    "\n",
    "df = palette_to_df(palette_path)\n",
    "display(df)"
   ]
  }
 ],
 "metadata": {
  "kernelspec": {
   "display_name": ".venv",
   "language": "python",
   "name": "python3"
  },
  "language_info": {
   "codemirror_mode": {
    "name": "ipython",
    "version": 3
   },
   "file_extension": ".py",
   "mimetype": "text/x-python",
   "name": "python",
   "nbconvert_exporter": "python",
   "pygments_lexer": "ipython3",
   "version": "3.12.10"
  }
 },
 "nbformat": 4,
 "nbformat_minor": 5
}
